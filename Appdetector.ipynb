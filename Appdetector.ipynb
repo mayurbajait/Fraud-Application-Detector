{
  "cells": [
    {
      "cell_type": "markdown",
      "metadata": {
        "id": "view-in-github",
        "colab_type": "text"
      },
      "source": [
        "<a href=\"https://colab.research.google.com/github/mayurbajait/Fraud-Application-Detector/blob/main/Appdetector.ipynb\" target=\"_parent\"><img src=\"https://colab.research.google.com/assets/colab-badge.svg\" alt=\"Open In Colab\"/></a>"
      ]
    },
    {
      "cell_type": "code",
      "execution_count": null,
      "metadata": {
        "id": "Fi_NMr2GOQ5_"
      },
      "outputs": [],
      "source": [
        "!pip install nltk\n",
        "!pip install pandas\n",
        "!pip install numpy\n",
        "!pip install google_play_scraper\n",
        "!pip install text2emotion"
      ]
    },
    {
      "cell_type": "code",
      "execution_count": null,
      "metadata": {
        "colab": {
          "background_save": true
        },
        "id": "mWghQ_aUOXNy"
      },
      "outputs": [],
      "source": [
        "\n",
        "import pandas as pd\n",
        "\n",
        "import numpy as np\n",
        "\n",
        "from google_play_scraper import Sort, reviews_all\n",
        "\n",
        "import nltk\n",
        "\n",
        "nltk.download('omw-1.4')\n",
        "\n",
        "import text2emotion as te\n",
        "\n",
        "\n",
        "result = reviews_all(\n",
        "    'com.fantome.penguinisle',\n",
        "    sleep_milliseconds=0, # defaults to 0\n",
        "    lang='en', # defaults to 'en'\n",
        "    country='us', # defaults to 'us'\n",
        "    sort=Sort.MOST_RELEVANT, # defaults to Sort.MOST_RELEVANT\n",
        "    filter_score_with=None # defaults to None(means all score)\n",
        ")\n",
        "\n",
        "\n",
        "df_busu = pd.DataFrame(np.array(result),columns=['review'])\n",
        "\n",
        "df_busu = df_busu.join(pd.DataFrame(df_busu.pop('review').tolist()))\n",
        "\n",
        "df_busu.head()\n",
        "\n",
        "for iterator in range(0,len(result)-1):\n",
        "    item = result[iterator]\n",
        "    print({'reviewContent':item['content'],'emotions':te.get_emotion(item['content'])})\n",
        "\n",
        "df_busu.to_csv('ratings.csv')"
      ]
    }
  ],
  "metadata": {
    "colab": {
      "collapsed_sections": [],
      "name": "Appdetector.ipynb",
      "provenance": [],
      "include_colab_link": true
    },
    "kernelspec": {
      "display_name": "Python 3",
      "name": "python3"
    },
    "language_info": {
      "name": "python"
    }
  },
  "nbformat": 4,
  "nbformat_minor": 0
}